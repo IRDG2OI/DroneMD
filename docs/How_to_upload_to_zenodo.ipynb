{
 "cells": [
  {
   "cell_type": "markdown",
   "metadata": {},
   "source": [
    "# Upload a dataset to Zenodo"
   ]
  },
  {
   "cell_type": "markdown",
   "metadata": {},
   "source": [
    "Install required modules listed in requirements.txt with pip:\n",
    "```\n",
    "$ pip install -r requirements.txt\n",
    "```"
   ]
  },
  {
   "cell_type": "markdown",
   "metadata": {},
   "source": [
    "Create a `.env` file in folder with following content:\n",
    "```\n",
    "ACCESS_TOKEN=myzenodotoken\n",
    "```"
   ]
  },
  {
   "cell_type": "markdown",
   "metadata": {},
   "source": [
    "### Load required module"
   ]
  },
  {
   "cell_type": "code",
   "execution_count": 25,
   "metadata": {},
   "outputs": [],
   "source": [
    "# Import zenodo_helper module\n",
    "import sys\n",
    "sys.path.insert(0, '..')\n",
    "from zenodo_helper import *\n",
    "import pandas as pd\n",
    "from dotenv import load_dotenv\n",
    "ACCESS_TOKEN = os.getenv('ACCESS_TOKEN')\n",
    "import hashlib"
   ]
  },
  {
   "cell_type": "markdown",
   "metadata": {},
   "source": [
    "Load dotenv in IPython Notebook"
   ]
  },
  {
   "cell_type": "markdown",
   "metadata": {},
   "source": [
    "### Load geoflow entities table with pandas"
   ]
  },
  {
   "cell_type": "code",
   "execution_count": 26,
   "metadata": {},
   "outputs": [
    {
     "data": {
      "text/html": [
       "<div>\n",
       "<style scoped>\n",
       "    .dataframe tbody tr th:only-of-type {\n",
       "        vertical-align: middle;\n",
       "    }\n",
       "\n",
       "    .dataframe tbody tr th {\n",
       "        vertical-align: top;\n",
       "    }\n",
       "\n",
       "    .dataframe thead th {\n",
       "        text-align: right;\n",
       "    }\n",
       "</style>\n",
       "<table border=\"1\" class=\"dataframe\">\n",
       "  <thead>\n",
       "    <tr style=\"text-align: right;\">\n",
       "      <th></th>\n",
       "      <th>Identifier</th>\n",
       "      <th>Title</th>\n",
       "      <th>Description</th>\n",
       "      <th>Subject</th>\n",
       "      <th>Creator</th>\n",
       "      <th>Date</th>\n",
       "      <th>Type</th>\n",
       "      <th>Language</th>\n",
       "      <th>SpatialCoverage</th>\n",
       "      <th>TemporalCoverage</th>\n",
       "      <th>Relation</th>\n",
       "      <th>Rights</th>\n",
       "      <th>Provenance</th>\n",
       "      <th>Format</th>\n",
       "      <th>Data</th>\n",
       "    </tr>\n",
       "  </thead>\n",
       "  <tbody>\n",
       "    <tr>\n",
       "      <th>0</th>\n",
       "      <td>20230524_REU-ermitage_UAV-02_1</td>\n",
       "      <td>title:Images UAV du projet TELEMAC, Ermitage, ...</td>\n",
       "      <td>abstract:\"This dataset is made of 324 images c...</td>\n",
       "      <td>theme[General]:TELEMAC,Réunion,Hermitage,drone...</td>\n",
       "      <td>author:sylvain.poulain@ird.fr,pascal.mouquet@i...</td>\n",
       "      <td>publication:2023-10-18_\\nedition:2023-10-18</td>\n",
       "      <td>dataset</td>\n",
       "      <td>fra</td>\n",
       "      <td>NaN</td>\n",
       "      <td>2023-05-24 07-35-31 - 2023-05-24 07-58-33</td>\n",
       "      <td>thumbnail:telemac@https://www.osureunion.fr/wp...</td>\n",
       "      <td>useLimitation:Utilisation libre sous réserve d...</td>\n",
       "      <td>statement:\"- Camera model and parameters:\\n Ma...</td>\n",
       "      <td>resource:image/jpg_\\ndistribution:application/...</td>\n",
       "      <td>source:SurveyMetadata.gpkg@/home/sylvain/Docum...</td>\n",
       "    </tr>\n",
       "  </tbody>\n",
       "</table>\n",
       "</div>"
      ],
      "text/plain": [
       "                       Identifier  \\\n",
       "0  20230524_REU-ermitage_UAV-02_1   \n",
       "\n",
       "                                               Title  \\\n",
       "0  title:Images UAV du projet TELEMAC, Ermitage, ...   \n",
       "\n",
       "                                         Description  \\\n",
       "0  abstract:\"This dataset is made of 324 images c...   \n",
       "\n",
       "                                             Subject  \\\n",
       "0  theme[General]:TELEMAC,Réunion,Hermitage,drone...   \n",
       "\n",
       "                                             Creator  \\\n",
       "0  author:sylvain.poulain@ird.fr,pascal.mouquet@i...   \n",
       "\n",
       "                                          Date     Type Language  \\\n",
       "0  publication:2023-10-18_\\nedition:2023-10-18  dataset      fra   \n",
       "\n",
       "   SpatialCoverage                           TemporalCoverage  \\\n",
       "0              NaN  2023-05-24 07-35-31 - 2023-05-24 07-58-33   \n",
       "\n",
       "                                            Relation  \\\n",
       "0  thumbnail:telemac@https://www.osureunion.fr/wp...   \n",
       "\n",
       "                                              Rights  \\\n",
       "0  useLimitation:Utilisation libre sous réserve d...   \n",
       "\n",
       "                                          Provenance  \\\n",
       "0  statement:\"- Camera model and parameters:\\n Ma...   \n",
       "\n",
       "                                              Format  \\\n",
       "0  resource:image/jpg_\\ndistribution:application/...   \n",
       "\n",
       "                                                Data  \n",
       "0  source:SurveyMetadata.gpkg@/home/sylvain/Docum...  "
      ]
     },
     "execution_count": 26,
     "metadata": {},
     "output_type": "execute_result"
    }
   ],
   "source": [
    "input = '/home/sylvain/Documents/IRD/DATA4'\n",
    "file_entities = '20231018-164240_iso19115-metadata.csv'\n",
    "df = {}\n",
    "df = pd.read_csv(os.path.join(input, file_entities))\n",
    "df.head()"
   ]
  },
  {
   "cell_type": "markdown",
   "metadata": {},
   "source": [
    "### Upload to Zenodo"
   ]
  },
  {
   "cell_type": "code",
   "execution_count": 27,
   "metadata": {},
   "outputs": [
    {
     "name": "stdout",
     "output_type": "stream",
     "text": [
      "#### Upload zip files to Zenodo\n",
      "\n",
      "Dataset: 1 / 1 \n",
      "     20230524_REU-ermitage_UAV-02_1\n",
      "['SurveyMetadata.gpkg']\n",
      "Initialize deposit\n",
      "Allowed to deposit some files\n",
      "prereserved doi:10.5281/zenodo.10072349\n",
      "Write DOI to dataframe\n",
      "Enrich upload with metadata\n",
      "{'metadata': {'title': 'Images UAV du projet TELEMAC, Ermitage, Réunion du 20230524', 'publication_date': '2023-10-18', 'description': '\"This dataset is made of 324 images collected by UAV in Ermitage, Réunion, 20230524. 100% of these images present a geolocalization that is inferred thanks to a GPS. More information can be found at 10.5281/zenodo.8362271\\n<br />\\n<br />Contenu du dépôt:\\n<br />└─ 20230524_REU-ermitage_UAV-02_1\\n<br />  └─ DCIM\\n<br />  └─ GPS\\n<br />    └─ base_2023_05_24_pascal\\n<br />    └─ reach_2023_05_24_drone\\n<br />      └─ reachsylvai_raw_202305240249_RINEX_3_03\\n<br />      └─ reachsylvai_raw_202305240330_RINEX_3_03\\n<br />    └─ reach_2023_05_24_rover\\n<br />  └─ METADATA\\n<br />    └─ tb\\n<br />  └─ PROCESSED\\n<br />\\n<br />- Camera model and parameters:\\n<br /> Make: Hasselblad\\n<br /> Model: L1D-20c\\n<br /> Width: 5472\\n<br /> Height: 3648\\n<br /> Focal: 28\\n<br /> WhiteBalance: Manual\\n<br /> ExposureMode: Auto Exposure\\n<br /> ColoSpace: sRGB\\n<br /> EV: -0.7\\n<br /> MeteringMode: CenterWeightedAverage\\n<br /> Camera Pitch: -80.00\\n<br />\\n<br />- Survey informations:\\n<br /> No Images: 324\\n<br /> Median height: 70 meters\\n<br /> Survey area: 8.97 hectares\\n<br /> Survey from: 2023:05:24 07:35:31 to: 2023:05:24 07:58:33\"', 'access_right': 'open', 'notes': '<p></p><div class=\"ui message warning\">This study was funded by the European Regional Development Fund (ERDF) within the programme Interreg V 2014-2020 through the project G2OI</div><br /><img src=\"https://github.com/IRDG2OI/geoflow-g2oi/raw/main/img/logos_partenaires.png?raw=True\">', 'creators': [{'name': 'sylvain.poulain@ird.fr'}, {'name': 'pascal.mouquet@ird.fr'}, {'name': 'emmanuel.cordier@univ-reunion.fr'}], 'keywords': ['TELEMAC', 'Réunion', 'Hermitage', 'drone', 'lagon', 'corail', 'reef'], 'related_identifiers': [{'identifier': 'urn:20230524_REU-ermitage_UAV-02_1', 'relation': 'isIdenticalTo', 'scheme': 'urn'}], 'version': 'v1', 'language': 'fra', 'license': 'cc-by-4.0', 'imprint_publisher': 'Zenodo', 'upload_type': 'dataset'}}\n",
      "upload data\n",
      "Trying upload number: 1\n",
      "/home/sylvain/Documents/IRD/DATA4/20230524_REU-ermitage_UAV-02_1/SurveyMetadata.gpkg\n",
      "    md5: 9d635f5c3e30a2453e8fc9826fb2d202\n",
      "    Sleep 5 seconds before new upload\n",
      "upload: SurveyMetadata.gpkg\n",
      "         {\"created\": \"2023-11-05T06:34:41.313453+00:00\", \"updated\": \"2023-11-05T06:34:42.913152+00:00\", \"version_id\": \"f25e784c-d9dc-4d65-bae2-c34ba439555c\", \"key\": \"SurveyMetadata.gpkg\", \"size\": 10149888, \"mimetype\": \"application/octet-stream\", \"checksum\": \"md5:9d635f5c3e30a2453e8fc9826fb2d202\", \"is_head\": true, \"delete_marker\": false, \"links\": {\"self\": \"https://zenodo.org/api/files/84ee1d92-4614-41f2-b614-f329c8e94d92/SurveyMetadata.gpkg\", \"version\": \"https://zenodo.org/api/files/84ee1d92-4614-41f2-b614-f329c8e94d92/SurveyMetadata.gpkg?versionId=f25e784c-d9dc-4d65-bae2-c34ba439555c\", \"uploads\": \"https://zenodo.org/api/files/84ee1d92-4614-41f2-b614-f329c8e94d92/SurveyMetadata.gpkg?uploads\"}}\n",
      "    Retry number: 2\n"
     ]
    }
   ],
   "source": [
    "### Upload to Zenodo\n",
    "print(\"#### Upload zip files to Zenodo\")\n",
    "base_url = \"https://zenodo.org/api/\"\n",
    "for zipul in range(len(df)):\n",
    "    # print(\"Dataset:\", zipul, \"/\" ,len(df))\n",
    "    print('\\nDataset:', zipul+1, \"/\" ,len(df), \"\\n    \",df.iloc[zipul]['Identifier'])\n",
    "    zenodo_baseurl = base_url\n",
    "\n",
    "    #### Extract source from Data in dataframe\n",
    "    data_zip = df.iloc[zipul]['Data'].split('source:')[1].split('_\\n')[0]\n",
    "    if \",\" in data_zip:\n",
    "        data_ziptemp = data_zip.split(',')\n",
    "        data_zip = []\n",
    "        for dt in range(len(data_ziptemp)):\n",
    "            data_zip.append(data_ziptemp[dt].split('@')[0])\n",
    "    else:\n",
    "        data_zip = [data_zip.split('@')[0]]\n",
    "    # data_zip = source_file\n",
    "    print(data_zip)\n",
    "\n",
    "    ### Put Metadata or verify if doi exists (Metadata not updated if doi exists)\n",
    "    if 'doi:' in df.iloc[zipul]['Identifier']:\n",
    "        doi_raw = df.iloc[zipul]['Identifier'].split('_\\ndoi:')[1].split('\\n')[0].split('.')[-1]\n",
    "        print(\"DOI already present: \",doi_raw)\n",
    "        getrecid = zenlist_single(zenodo_baseurl, ACCESS_TOKEN, str(doi_raw))\n",
    "        zenval = zenvar(getrecid)\n",
    "    else:\n",
    "        print(\"Initialize deposit\")\n",
    "        r = check_token(zenodo_baseurl, ACCESS_TOKEN)\n",
    "        zenval = zenvar(r)\n",
    "        print(\"prereserved doi:\"+zenval[1])\n",
    "        print(\"Write DOI to dataframe\")\n",
    "        dfzen = df\n",
    "        if 'id:' in dfzen.iloc[zipul]['Identifier']:\n",
    "            pass\n",
    "        else:\n",
    "            dfzen.iloc[zipul, dfzen.columns.get_loc('Identifier')] = \"id:\" + dfzen.iloc[zipul]['Identifier'] + \"_\\ndoi:\" + zenval[1]\n",
    "            dfzen.iloc[zipul, dfzen.columns.get_loc(\"Provenance\")] = dfzen.iloc[zipul][\"Provenance\"] + \"_\\nprocess:Raw dataset uploaded to \" + base_url.split('api')[0] + \"record/\" + str(zenval[2])\n",
    "            \n",
    "        print(\"Enrich upload with metadata\")\n",
    "        zen_metadata = zenmdt(zenodo_baseurl, ACCESS_TOKEN, zenval[2], df, zipul)\n",
    "        if zen_metadata.status_code > 400:\n",
    "            print(\"error in metadata, please check there is no double keywords: \\n\" + zen_metadata.text)\n",
    "            break\n",
    "        \n",
    "    # print(zen_metadata.text)       \n",
    "    print(\"upload data\")\n",
    "    print(\"Trying upload number: 1\")\n",
    "\n",
    "    for file in data_zip:\n",
    "        ul_count = 1\n",
    "        ### Control Filename\n",
    "        # while file not in zenlist_single_files(zenodo_baseurl, ACCESS_TOKEN, str(zenval[2])).text:\n",
    "        ### Control md5 checksum:\n",
    "        ful = os.path.join(input, df.iloc[zipul]['Identifier'].split('_\\n')[0].split(':')[1], file)\n",
    "        print(ful)\n",
    "        with open(ful, \"rb\") as file_to_check:\n",
    "            # Open,close, read file and calculate MD5 on its contents \n",
    "            # read contents of the file\n",
    "            ## Python 3.10\n",
    "            fh = file_to_check.read() \n",
    "            # pipe contents of the file through\n",
    "            digest = hashlib.md5(fh)\n",
    "            ## End Python 3.10\n",
    "            # digest = hashlib.file_digest(file_to_check, \"md5\") ### Python 3.11 only\n",
    "        print(\"    md5:\", digest.hexdigest())\n",
    "        while digest.hexdigest() not in zenlist_single_files(zenodo_baseurl, ACCESS_TOKEN, str(zenval[2])).text:\n",
    "            #Reset connection every 15 tries\n",
    "            if ul_count == 15:\n",
    "                getrecid = zenlist_single(zenodo_baseurl, ACCESS_TOKEN, str(doi_raw))\n",
    "                zenval = zenvar(getrecid)\n",
    "            \n",
    "            file_on_server = zenlist_single_files(zenodo_baseurl, ACCESS_TOKEN, str(zenval[2]))\n",
    "            ### Clean wrong checksum\n",
    "            if file in file_on_server.text:\n",
    "                print(\"    clean wrong files\")\n",
    "                for fs in range(len(file_on_server.json())):\n",
    "                    if file == file_on_server.json()[fs]['filename']:\n",
    "                        # print(\"    sleep 5: computing checksum on server\")\n",
    "                        # time.sleep(15)\n",
    "                        print(\"    checksum on server\", file_on_server.json()[fs]['checksum'])\n",
    "                        furl = file_on_server.json()[fs][\"links\"][\"self\"]\n",
    "                        file_to_remove = zen_del_file(furl, ACCESS_TOKEN)\n",
    "                        \n",
    "            file_list = [file]            \n",
    "            zen_upload = zenul(zenval[0], ACCESS_TOKEN, os.path.join(input, df.iloc[zipul]['Identifier'].split('_\\n')[0].split(':')[1]), file_list)\n",
    "            print(\"        \", zen_upload.text)\n",
    "            if zen_upload.status_code == 404:\n",
    "                print(\"Version doesn't exists ! Please check your record_id\")\n",
    "                break\n",
    "            else:\n",
    "                ul_count += 1\n",
    "                print(\"    Retry number: \" + str(ul_count))\n",
    "                if zen_upload.status_code == 403:\n",
    "                    print(\"        Friday 13th 2023 nightmare => permission denied!\")\n",
    "                    time.sleep(5)      \n"
   ]
  },
  {
   "cell_type": "markdown",
   "metadata": {},
   "source": [
    "### Display DOI"
   ]
  },
  {
   "cell_type": "code",
   "execution_count": 31,
   "metadata": {},
   "outputs": [
    {
     "name": "stdout",
     "output_type": "stream",
     "text": [
      "id:20230524_REU-ermitage_UAV-02_1\n",
      "doi:10.5281/zenodo.10072349\n"
     ]
    }
   ],
   "source": [
    "for i in range(len(df)):\n",
    "    print(df.iloc[i]['Identifier'].replace('_\\n', '\\n'))"
   ]
  },
  {
   "cell_type": "code",
   "execution_count": 33,
   "metadata": {},
   "outputs": [],
   "source": [
    "### Remove ACCESS_TOKEN\n",
    "ACCESS_TOKEN = ''"
   ]
  }
 ],
 "metadata": {
  "kernelspec": {
   "display_name": "Python 3",
   "language": "python",
   "name": "python3"
  },
  "language_info": {
   "codemirror_mode": {
    "name": "ipython",
    "version": 3
   },
   "file_extension": ".py",
   "mimetype": "text/x-python",
   "name": "python",
   "nbconvert_exporter": "python",
   "pygments_lexer": "ipython3",
   "version": "3.11.5"
  }
 },
 "nbformat": 4,
 "nbformat_minor": 2
}
